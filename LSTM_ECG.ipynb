{
  "cells": [
    {
      "cell_type": "markdown",
      "metadata": {
        "id": "view-in-github",
        "colab_type": "text"
      },
      "source": [
        "<a href=\"https://colab.research.google.com/github/DhawaDong/LSTM-ECG/blob/main/LSTM_ECG.ipynb\" target=\"_parent\"><img src=\"https://colab.research.google.com/assets/colab-badge.svg\" alt=\"Open In Colab\"/></a>"
      ]
    },
    {
      "cell_type": "code",
      "execution_count": null,
      "metadata": {
        "id": "KFzD3lNPXbJN"
      },
      "outputs": [],
      "source": [
        "import numpy\n",
        "import matplotlib.pyplot as plt\n",
        "import pandas\n",
        "import math\n",
        "from keras.models import Sequential\n",
        "from keras.layers import Dense, LSTM, Dropout, Bidirectional, Conv1D, MaxPooling1D, Flatten\n",
        "from sklearn.preprocessing import MinMaxScaler\n",
        "from sklearn.metrics import mean_squared_error\n",
        "import pandas as pd\n",
        "import scipy.io as sio\n",
        "from os import listdir\n",
        "from os.path import isfile, join\n",
        "import numpy as np\n",
        "import keras"
      ]
    },
    {
      "cell_type": "code",
      "execution_count": null,
      "metadata": {
        "id": "pHwFf1ZEmi8p"
      },
      "outputs": [],
      "source": [
        "#from google.colab import drive\n",
        "#drive.mount('/content/drive')"
      ]
    },
    {
      "cell_type": "code",
      "execution_count": null,
      "metadata": {
        "id": "Qc1t-rrbX9Ju"
      },
      "outputs": [],
      "source": [
        "number_of_classes = 4"
      ]
    },
    {
      "cell_type": "code",
      "execution_count": null,
      "metadata": {
        "id": "w-M9z8IyZl2p"
      },
      "outputs": [],
      "source": [
        "def discritize(x):\n",
        "    answer = np.zeros((np.shape(x)[0]))\n",
        "    for i in range(np.shape(x)[0]):\n",
        "        max_value = max(x[i, :])\n",
        "        max_index = list(x[i, :]).index(max_value)\n",
        "        answer[i] = max_index\n",
        "    return answer.astype(np.int)"
      ]
    },
    {
      "cell_type": "code",
      "execution_count": null,
      "metadata": {
        "colab": {
          "base_uri": "https://localhost:8080/"
        },
        "id": "8GCJbQGzZl5u",
        "outputId": "c5ada70f-bee7-4d43-b9b5-406de485c64e"
      },
      "outputs": [
        {
          "output_type": "execute_result",
          "data": {
            "text/plain": [
              "18000"
            ]
          },
          "metadata": {},
          "execution_count": 49
        }
      ],
      "source": [
        "mypath = '/content/drive/MyDrive/training2017/'\n",
        "onlyfiles = [f for f in listdir(mypath) if (isfile(join(mypath, f)) and f[0] == 'A')]\n",
        "bats = [f for f in onlyfiles if f[7] == 'm']\n",
        "mats = [f for f in bats if (np.shape(sio.loadmat(mypath + f)['val'])[1] >= 9000)]\n",
        "SampleSize = np.shape(sio.loadmat(mypath + mats[0])['val'])[1]\n",
        "\n",
        "SampleSize"
      ]
    },
    {
      "cell_type": "code",
      "execution_count": null,
      "metadata": {
        "id": "4vg2VD3cK86j"
      },
      "outputs": [],
      "source": [
        "SampleSize = 9000"
      ]
    },
    {
      "cell_type": "code",
      "execution_count": null,
      "metadata": {
        "id": "cybhHaVJB_Ex"
      },
      "outputs": [],
      "source": [
        "from sklearn.utils import shuffle\n",
        "from sklearn.utils import resample\n",
        "\n",
        "Train_data = pd.read_csv(mypath + 'REFERENCE.csv', sep=',', header=None, names=None)\n",
        "df_1 = Train_data[Train_data[1]=='A']\n",
        "df_2 = Train_data[Train_data[1]=='N']\n",
        "df_3 = Train_data[Train_data[1]=='O']\n",
        "df_4 = Train_data[Train_data[1]=='~']\n",
        "\n",
        "df_1_upsample = resample(df_1, replace=True, n_samples=5500, random_state=123)\n",
        "df_2_upsample = resample(df_2, replace=True, n_samples=5500, random_state=124)\n",
        "df_3_upsample = resample(df_3, replace=True, n_samples=5500, random_state=125)\n",
        "df_4_upsample = resample(df_4, replace=True, n_samples=8500, random_state=126)\n",
        "\n",
        "training_data = pd.concat([df_1_upsample, df_2_upsample, df_3_upsample, df_4_upsample])\n",
        "TrainDataSuffled = shuffle(training_data)"
      ]
    },
    {
      "cell_type": "code",
      "execution_count": null,
      "metadata": {
        "id": "iZHw88EUCknS"
      },
      "outputs": [],
      "source": [
        "FileList = list(TrainDataSuffled[0] + '.mat')\n",
        "#len(FileList)"
      ]
    },
    {
      "cell_type": "code",
      "execution_count": null,
      "metadata": {
        "colab": {
          "base_uri": "https://localhost:8080/"
        },
        "id": "aCdxEQ1aP0ae",
        "outputId": "e43c1145-ad58-4a79-e4b2-32f77c7c904e"
      },
      "outputs": [
        {
          "output_type": "stream",
          "name": "stdout",
          "text": [
            "(738, 2) (5050, 2) (2456, 2) (284, 2)\n"
          ]
        }
      ],
      "source": [
        "print(df_1.shape, df_2.shape, df_3.shape, df_4.shape)"
      ]
    },
    {
      "cell_type": "code",
      "execution_count": null,
      "metadata": {
        "colab": {
          "base_uri": "https://localhost:8080/"
        },
        "id": "GvQ16BT9Tcxi",
        "outputId": "c63a2849-66ec-495b-c0e5-e539feaf762d"
      },
      "outputs": [
        {
          "output_type": "execute_result",
          "data": {
            "text/plain": [
              "5939"
            ]
          },
          "metadata": {},
          "execution_count": 54
        }
      ],
      "source": [
        "DelRows = []\n",
        "for i in range(len(FileList)):\n",
        "  #print(i)\n",
        "  if (sio.loadmat(mypath + FileList[i])['val']).shape[1]<9000:\n",
        "    DelRows.append(FileList[i])\n",
        "\n",
        "len(DelRows)"
      ]
    },
    {
      "cell_type": "code",
      "execution_count": null,
      "metadata": {
        "colab": {
          "base_uri": "https://localhost:8080/"
        },
        "id": "7ubOX1vftNtn",
        "outputId": "521455fa-1d9c-4e9b-e945-3b68365d86fa"
      },
      "outputs": [
        {
          "output_type": "execute_result",
          "data": {
            "text/plain": [
              "19061"
            ]
          },
          "metadata": {},
          "execution_count": 55
        }
      ],
      "source": [
        "for j in range(len(DelRows)):\n",
        "  TrainDataSuffled.drop(TrainDataSuffled.loc[TrainDataSuffled[0] == DelRows[j][0:6]].index, inplace = True)\n",
        "\n",
        "NewFileList = list(TrainDataSuffled[0]+'.mat')\n",
        "len(NewFileList)"
      ]
    },
    {
      "cell_type": "code",
      "execution_count": null,
      "metadata": {
        "colab": {
          "base_uri": "https://localhost:8080/"
        },
        "id": "lUGpBHMxHgJZ",
        "outputId": "e8c79f36-7fa9-4644-faaf-859d7f34b9f9"
      },
      "outputs": [
        {
          "output_type": "execute_result",
          "data": {
            "text/plain": [
              "19061"
            ]
          },
          "metadata": {},
          "execution_count": 56
        }
      ],
      "source": [
        "len(NewFileList)"
      ]
    },
    {
      "cell_type": "code",
      "execution_count": null,
      "metadata": {
        "id": "s2eYfSBuTX3E"
      },
      "outputs": [],
      "source": [
        "X = np.zeros((len(NewFileList), SampleSize))\n",
        "for i in range(len(NewFileList)):\n",
        "    X[i, :] = sio.loadmat(mypath + NewFileList[i])['val'][0, :9000]\n",
        "    #print(i)"
      ]
    },
    {
      "cell_type": "code",
      "execution_count": null,
      "metadata": {
        "colab": {
          "base_uri": "https://localhost:8080/"
        },
        "id": "EV1EILCgJXe1",
        "outputId": "ca3aea7f-bde8-464c-c6c2-a614f2278bfe"
      },
      "outputs": [
        {
          "output_type": "execute_result",
          "data": {
            "text/plain": [
              "(19061, 9000)"
            ]
          },
          "metadata": {},
          "execution_count": 58
        }
      ],
      "source": [
        "X.shape"
      ]
    },
    {
      "cell_type": "code",
      "execution_count": null,
      "metadata": {
        "colab": {
          "base_uri": "https://localhost:8080/"
        },
        "id": "2lRx8JP7y-a4",
        "outputId": "08adf5cf-4b66-47bf-fcc4-f6b372019267"
      },
      "outputs": [
        {
          "output_type": "execute_result",
          "data": {
            "text/plain": [
              "(19061, 19061)"
            ]
          },
          "metadata": {},
          "execution_count": 59
        }
      ],
      "source": [
        "len(NewFileList), TrainDataSuffled.shape[0]"
      ]
    },
    {
      "cell_type": "code",
      "execution_count": null,
      "metadata": {
        "id": "38RbBfMTZl80"
      },
      "outputs": [],
      "source": [
        "target_train = np.zeros((len(NewFileList), 1))\n",
        "#TrainDataSuffled  NewFileList\n",
        "#Train_data = pd.read_csv(mypath + 'REFERENCE.csv', sep=',', header=None, names=None)\n",
        "for i in range(len(NewFileList)):\n",
        "    if Train_data.loc[Train_data[0] == NewFileList[i][:6], 1].values == 'N':\n",
        "        target_train[i] = 0\n",
        "    elif Train_data.loc[Train_data[0] == NewFileList[i][:6], 1].values == 'A':\n",
        "        target_train[i] = 1\n",
        "    elif Train_data.loc[Train_data[0] == NewFileList[i][:6], 1].values == 'O':\n",
        "        target_train[i] = 2\n",
        "    else:\n",
        "        target_train[i] = 3"
      ]
    },
    {
      "cell_type": "code",
      "execution_count": null,
      "metadata": {
        "id": "_Zey3ZVsZmAB"
      },
      "outputs": [],
      "source": [
        "Label_set = np.zeros((len(NewFileList), number_of_classes))\n",
        "for i in range(np.shape(target_train)[0]):\n",
        "    dummy = np.zeros((number_of_classes))\n",
        "    dummy[int(target_train[i])] = 1\n",
        "    Label_set[i, :] = dummy"
      ]
    },
    {
      "cell_type": "code",
      "execution_count": null,
      "metadata": {
        "id": "ROXwYJihZmCz"
      },
      "outputs": [],
      "source": [
        "train_len = 0.8 #0.75\n",
        "X_train = X[:int(train_len*len(NewFileList)), :]\n",
        "Y_train = Label_set[:int(train_len*len(NewFileList)), :]\n",
        "X_val = X[int(train_len*len(NewFileList)):, :]\n",
        "Y_val = Label_set[int(train_len*len(NewFileList)):, :]"
      ]
    },
    {
      "cell_type": "code",
      "execution_count": null,
      "metadata": {
        "id": "31-d9eBNaLYr"
      },
      "outputs": [],
      "source": [
        "X_train = numpy.reshape(X_train, (X_train.shape[0], 1, X_train.shape[1]))\n",
        "X_val = numpy.reshape(X_val, (X_val.shape[0], 1, X_val.shape[1]))"
      ]
    },
    {
      "cell_type": "code",
      "execution_count": null,
      "metadata": {
        "colab": {
          "base_uri": "https://localhost:8080/"
        },
        "id": "QSMgdALAYsIO",
        "outputId": "1a2e5cc8-b4bf-4e97-96cf-59a925d3d1d1"
      },
      "outputs": [
        {
          "output_type": "stream",
          "name": "stdout",
          "text": [
            "(15248, 1, 9000) (3813, 1, 9000) 9000\n"
          ]
        }
      ],
      "source": [
        "print(X_train.shape, X_val.shape, SampleSize)"
      ]
    },
    {
      "cell_type": "code",
      "execution_count": null,
      "metadata": {
        "colab": {
          "base_uri": "https://localhost:8080/"
        },
        "id": "TlO6vvME52XA",
        "outputId": "81b1f6ff-5dd9-46fa-b3d1-235bbdddb824"
      },
      "outputs": [
        {
          "output_type": "execute_result",
          "data": {
            "text/plain": [
              "array([3934., 3777., 4059., 3478.])"
            ]
          },
          "metadata": {},
          "execution_count": 65
        }
      ],
      "source": [
        "sum(Y_train)"
      ]
    },
    {
      "cell_type": "code",
      "execution_count": null,
      "metadata": {
        "colab": {
          "base_uri": "https://localhost:8080/"
        },
        "id": "OH5Cy8Dbf2YC",
        "outputId": "dd9cef4b-7f57-4a4f-fb14-bca534ca2eab"
      },
      "outputs": [
        {
          "output_type": "execute_result",
          "data": {
            "text/plain": [
              "array([ 993.,  923., 1018.,  879.])"
            ]
          },
          "metadata": {},
          "execution_count": 66
        }
      ],
      "source": [
        "sum(Y_val)"
      ]
    },
    {
      "cell_type": "code",
      "execution_count": null,
      "metadata": {
        "id": "wJADW35C7jGf"
      },
      "outputs": [],
      "source": [
        "#Model Design"
      ]
    },
    {
      "cell_type": "code",
      "execution_count": null,
      "metadata": {
        "id": "RIn_cxEzC3zp"
      },
      "outputs": [],
      "source": [
        "# Deep BiLSTM Model\n",
        "batch_size = 64\n",
        "x_train = X_train, y_train = Y_train\n",
        "x_val = X_val, y_val = Y_val\n",
        "\n",
        "model = Sequential()\n",
        "model.add(Bidirectional(LSTM(1024, return_sequences=True), input_shape=(1, SampleSize)))\n",
        "model.add(Dropout(0.25))\n",
        "\n",
        "model.add(Bidirectional(LSTM(512, return_sequences=True)))\n",
        "model.add(Dropout(0.25))\n",
        "\n",
        "model.add(Bidirectional(LSTM(256, return_sequences=True)))\n",
        "model.add(Dropout(0.25))\n",
        "\n",
        "model.add(Bidirectional(LSTM(128, return_sequences=True)))\n",
        "model.add(Dropout(0.25))\n",
        "\n",
        "model.add(Bidirectional(LSTM(64)))\n",
        "#model.add(BatchNormalization())\n",
        "\n",
        "model.add(Dense(64, activation='relu'))\n",
        "#model.add(BatchNormalization())\n",
        "\n",
        "model.add(Dense(32, activation='relu'))\n",
        "#model.add(BatchNormalization())\n",
        "\n",
        "#output layer\n",
        "model.add(Dense(number_of_classes, activation='softmax'))\n",
        "\n",
        "early_stopping = keras.callbacks.EarlyStopping(monitor='val_loss', min_delta=0, patience=50, verbose=1, mode='auto')\n",
        "adam = keras.optimizers.Adam(learning_rate = 0.00001, beta_1 = 0.9, beta_2 = 0.999, epsilon = 1e-08, decay = 0.001)\n",
        "\n",
        "model.compile(loss = 'categorical_crossentropy', optimizer = adam, metrics = ['accuracy']) #categorical_crossentropy"
      ]
    },
    {
      "cell_type": "code",
      "execution_count": null,
      "metadata": {
        "id": "1_GEKuoEaLcW"
      },
      "outputs": [],
      "source": [
        "#CNN-BiLSTM Model\n",
        "batch_size = 64\n",
        "x_train = np.transpose(X_train, (0, 2, 1))\n",
        "y_train = Y_train\n",
        "\n",
        "x_val = np.transpose(X_val, (0, 2, 1))\n",
        "y_val = Y_val\n",
        "\n",
        "model = Sequential()\n",
        "# Three Convolutional Layers\n",
        "model.add(Conv1D(filters=32, kernel_size=5, activation='relu', input_shape=(SampleSize, 1)))\n",
        "model.add(MaxPooling1D(pool_size=2))\n",
        "\n",
        "model.add(Conv1D(filters=64, kernel_size=3, activation='relu'))\n",
        "model.add(MaxPooling1D(pool_size=2))\n",
        "\n",
        "model.add(Conv1D(filters=128, kernel_size=3, activation='relu'))\n",
        "model.add(MaxPooling1D(pool_size=2))\n",
        "\n",
        "# Five BLSTM Layers\n",
        "#model.add(Bidirectional(LSTM(units=1024, return_sequences=True)))\n",
        "#model.add(Dropout(0.2))\n",
        "\n",
        "# Four BLSTM Layers\n",
        "model.add(Bidirectional(LSTM(units=512, return_sequences=True)))\n",
        "model.add(Dropout(0.2))\n",
        "\n",
        "model.add(Bidirectional(LSTM(units=256, return_sequences=True)))\n",
        "model.add(Dropout(0.2))\n",
        "\n",
        "model.add(Bidirectional(LSTM(units=128, return_sequences=True)))\n",
        "model.add(Dropout(0.2))\n",
        "\n",
        "model.add(Bidirectional(LSTM(units=64)))\n",
        "\n",
        "model.add(Dense(64, activation='relu'))\n",
        "#model.add(BatchNormalization())\n",
        "\n",
        "model.add(Dense(32, activation='relu'))\n",
        "#model.add(BatchNormalization())\n",
        "\n",
        "# Output Layer\n",
        "model.add(Dense(number_of_classes, activation='softmax'))\n",
        "\n",
        "early_stopping = keras.callbacks.EarlyStopping(monitor='val_loss', min_delta=0, patience=50, verbose=1, mode='auto')\n",
        "adam = keras.optimizers.Adam(learning_rate = 0.00001, beta_1 = 0.9, beta_2 = 0.999, epsilon = 1e-08, decay = 0.001)\n",
        "\n",
        "model.compile(loss = 'categorical_crossentropy', optimizer = adam, metrics = ['accuracy']) #categorical_crossentropy"
      ]
    },
    {
      "cell_type": "code",
      "execution_count": null,
      "metadata": {
        "id": "QgutQo3BH7p_"
      },
      "outputs": [],
      "source": [
        "model.summary()"
      ]
    },
    {
      "cell_type": "code",
      "execution_count": null,
      "metadata": {
        "colab": {
          "base_uri": "https://localhost:8080/"
        },
        "id": "17unXcKsZmGD",
        "outputId": "03323485-ac74-4d5e-aa44-c3d95fc24928"
      },
      "outputs": [
        {
          "metadata": {
            "tags": null
          },
          "name": "stdout",
          "output_type": "stream",
          "text": [
            "Epoch 1/2\n",
            "239/239 - 333s - loss: 1.3145 - accuracy: 0.3727 - val_loss: 1.2183 - val_accuracy: 0.4482 - 333s/epoch - 1s/step\n",
            "Epoch 2/2\n",
            "239/239 - 317s - loss: 1.1615 - accuracy: 0.4884 - val_loss: 1.0685 - val_accuracy: 0.5282 - 317s/epoch - 1s/step\n",
            "120/120 [==============================] - 36s 281ms/step\n"
          ]
        }
      ],
      "source": [
        "history = model.fit(x_train, y_train, epochs=2, batch_size=batch_size,\n",
        "                    validation_data=(x_val, y_val), verbose=2, shuffle=False,\n",
        "                    callbacks=[early_stopping])\n",
        "#model.save('Keras_models/LSTM_ECG_Model_' + str(i) + '_' + str(j) + '_' + str() + '.h5')\n",
        "predictions = model.predict(x_val)"
      ]
    },
    {
      "cell_type": "code",
      "execution_count": null,
      "metadata": {
        "id": "HhB_hiUYaabD",
        "colab": {
          "base_uri": "https://localhost:8080/"
        },
        "outputId": "85f9fcde-793d-4278-d72e-6f74f954945d"
      },
      "outputs": [
        {
          "output_type": "stream",
          "name": "stdout",
          "text": [
            "0.4689221085759245 0.4588320037206777 0.4689221085759245 0.4449599521799782\n"
          ]
        },
        {
          "output_type": "stream",
          "name": "stderr",
          "text": [
            "<ipython-input-48-262383bcf3a5>:7: DeprecationWarning: `np.int` is a deprecated alias for the builtin `int`. To silence this warning, use `int` by itself. Doing this will not modify any behavior and is safe. When replacing `np.int`, you may wish to use e.g. `np.int64` or `np.int32` to specify the precision. If you wish to review your current use, check the release note link for additional information.\n",
            "Deprecated in NumPy 1.20; for more details and guidance: https://numpy.org/devdocs/release/1.20.0-notes.html#deprecations\n",
            "  return answer.astype(np.int)\n"
          ]
        }
      ],
      "source": [
        "from sklearn.metrics import (confusion_matrix, accuracy_score, precision_score, recall_score, f1_score)\n",
        "Y_actual = discritize(y_val)\n",
        "Y_predict = discritize(predictions)\n",
        "\n",
        "Accuracy = accuracy_score(Y_actual, Y_predict)\n",
        "Precision = precision_score(Y_actual, Y_predict, average='weighted')\n",
        "Recall = recall_score(Y_actual, Y_predict, average='weighted')\n",
        "F1score = f1_score(Y_actual, Y_predict, average='weighted')\n",
        "\n",
        "print(Accuracy, Precision, Recall, F1score)"
      ]
    },
    {
      "cell_type": "code",
      "execution_count": null,
      "metadata": {
        "id": "rloPbFVxaad-",
        "colab": {
          "base_uri": "https://localhost:8080/",
          "height": 312
        },
        "outputId": "44f3ace9-acab-47b4-f53d-b89086e9884b"
      },
      "outputs": [
        {
          "output_type": "stream",
          "name": "stdout",
          "text": [
            "dict_keys(['loss', 'accuracy', 'val_loss', 'val_accuracy'])\n"
          ]
        },
        {
          "output_type": "display_data",
          "data": {
            "text/plain": [
              "<Figure size 432x288 with 1 Axes>"
            ],
            "image/png": "[encoded data removed]"
          },
          "metadata": {
            "needs_background": "light"
          }
        }
      ],
      "source": [
        "print(history.history.keys())\n",
        "# summarize history for accuracy\n",
        "plt.plot(history.history['accuracy'])\n",
        "plt.plot(history.history['val_accuracy'])\n",
        "plt.title('model accuracy')\n",
        "plt.ylabel('accuracy')\n",
        "plt.xlabel('epoch')\n",
        "plt.legend(['train Acc', 'val Acc'], loc='upper right')\n",
        "plt.show()"
      ]
    },
    {
      "cell_type": "code",
      "execution_count": null,
      "metadata": {
        "id": "NnR3qKvhaahH",
        "colab": {
          "base_uri": "https://localhost:8080/",
          "height": 295
        },
        "outputId": "a56834c6-4b5d-4186-d04b-84ef72375b88"
      },
      "outputs": [
        {
          "output_type": "display_data",
          "data": {
            "text/plain": [
              "<Figure size 432x288 with 1 Axes>"
            ],
            "image/png": "[encoded data removed]"
          },
          "metadata": {
            "needs_background": "light"
          }
        }
      ],
      "source": [
        "# summarize history for loss\n",
        "plt.plot(history.history['loss'])\n",
        "plt.plot(history.history['val_loss'])\n",
        "plt.title('model loss')\n",
        "plt.ylabel('loss')\n",
        "plt.xlabel('epoch')\n",
        "plt.legend(['train-loss', 'val-loss'], loc='upper right')\n",
        "plt.show()"
      ]
    },
    {
      "cell_type": "code",
      "execution_count": null,
      "metadata": {
        "id": "FkZQ8wmAvZGR"
      },
      "outputs": [],
      "source": [
        "predictions = model.predict(X_val)\n",
        "predictions"
      ]
    },
    {
      "cell_type": "code",
      "execution_count": null,
      "metadata": {
        "id": "A4CQom1TwFRu",
        "colab": {
          "base_uri": "https://localhost:8080/"
        },
        "outputId": "044a9759-fab9-4102-f0b1-09ecf68973ee"
      },
      "outputs": [
        {
          "output_type": "execute_result",
          "data": {
            "text/plain": [
              "(array([3, 0, 1, ..., 3, 2, 3]), array([3, 3, 3, ..., 3, 1, 3]))"
            ]
          },
          "metadata": {},
          "execution_count": 93
        }
      ],
      "source": [
        "Y_actual, Y_predict"
      ]
    },
    {
      "cell_type": "code",
      "execution_count": null,
      "metadata": {
        "id": "BwZuCRwIwFWd"
      },
      "outputs": [],
      "source": [
        "cm = confusion_matrix(Y_actual, Y_predict)"
      ]
    },
    {
      "cell_type": "code",
      "execution_count": null,
      "metadata": {
        "id": "hvV-o4NyqdKU"
      },
      "outputs": [],
      "source": [
        "cm = np.array([[845,6,179,1], [2,935,2,0], [87,5,897,0],[0,0,0,854] ])\n",
        "cm"
      ]
    },
    {
      "cell_type": "code",
      "execution_count": null,
      "metadata": {
        "id": "OWffPcyVoUUe"
      },
      "outputs": [],
      "source": [
        "def plot_confusion_matrix(cm, classes,\n",
        "                          normalize=False,\n",
        "                          title='Confusion matrix',\n",
        "                          cmap=plt.cm.Blues):\n",
        "\n",
        "    plt.imshow(cm, interpolation='nearest', cmap=cmap)\n",
        "    plt.title(title)\n",
        "    plt.colorbar()\n",
        "    tick_marks = np.arange(len(classes))\n",
        "    plt.xticks(tick_marks, classes, rotation=45)\n",
        "    plt.yticks(tick_marks, classes)\n",
        "\n",
        "    if normalize:\n",
        "        cm = cm.astype('float') / cm.sum(axis=1)[:, np.newaxis]\n",
        "        print(\"Normalized confusion matrix\")\n",
        "    else:\n",
        "        print('Confusion matrix, without normalization')\n",
        "\n",
        "    thresh = cm.max() / 2.\n",
        "    for i, j in itertools.product(range(cm.shape[0]), range(cm.shape[1])):\n",
        "        plt.text(j, i, cm[i, j],\n",
        "                 horizontalalignment=\"center\",\n",
        "                 color=\"white\" if cm[i, j] > thresh else \"black\")\n",
        "\n",
        "    plt.tight_layout()\n",
        "    plt.ylabel('True label')\n",
        "    plt.xlabel('Predicted label')\n"
      ]
    },
    {
      "cell_type": "code",
      "execution_count": null,
      "metadata": {
        "id": "L0n0ZjBkpitY"
      },
      "outputs": [],
      "source": [
        "import itertools\n",
        "plot_confusion_matrix(cm, classes=['AF', 'Normal', 'Other', 'Noise'])"
      ]
    },
    {
      "cell_type": "code",
      "source": [],
      "metadata": {
        "id": "ZKEsYAMrIMbz"
      },
      "execution_count": null,
      "outputs": []
    }
  ],
  "metadata": {
    "accelerator": "GPU",
    "colab": {
      "provenance": [],
      "include_colab_link": true
    },
    "gpuClass": "standard",
    "kernelspec": {
      "display_name": "Python 3",
      "name": "python3"
    },
    "language_info": {
      "name": "python"
    }
  },
  "nbformat": 4,
  "nbformat_minor": 0
}