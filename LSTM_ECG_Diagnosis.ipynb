{
  "cells": [
    {
      "cell_type": "markdown",
      "metadata": {
        "id": "view-in-github",
        "colab_type": "text"
      },
      "source": [
        "<a href=\"https://colab.research.google.com/github/DhawaDong/LSTM-ECG-Diagnosis/blob/main/LSTM_ECG_Diagnosis.ipynb\" target=\"_parent\"><img src=\"https://colab.research.google.com/assets/colab-badge.svg\" alt=\"Open In Colab\"/></a>"
      ]
    },
    {
      "cell_type": "code",
      "execution_count": null,
      "metadata": {
        "id": "KFzD3lNPXbJN"
      },
      "outputs": [],
      "source": [
        "import numpy\n",
        "import matplotlib.pyplot as plt\n",
        "import pandas\n",
        "import math\n",
        "\n",
        "from keras.models import Sequential\n",
        "#from tensorflow.keras import optimizers\n",
        "from tensorflow.keras.optimizers import Adam\n",
        "from keras.layers import Dense, LSTM, Dropout, Bidirectional, Conv1D, MaxPooling1D, Flatten\n",
        "from sklearn.preprocessing import MinMaxScaler\n",
        "from sklearn.metrics import mean_squared_error\n",
        "import pandas as pd\n",
        "import scipy.io as sio\n",
        "from os import listdir\n",
        "from os.path import isfile, join\n",
        "import numpy as np\n",
        "import keras\n",
        "\n",
        "import tensorflow as tf\n",
        "from sklearn.metrics import multilabel_confusion_matrix"
      ]
    },
    {
      "cell_type": "code",
      "source": [
        "import tensorflow as tf\n",
        "print(tf.__version__)"
      ],
      "metadata": {
        "id": "FwDsivjtQHPx"
      },
      "execution_count": null,
      "outputs": []
    },
    {
      "cell_type": "code",
      "execution_count": null,
      "metadata": {
        "id": "pHwFf1ZEmi8p"
      },
      "outputs": [],
      "source": [
        "#from google.colab import drive\n",
        "#drive.mount('/content/drive')"
      ]
    },
    {
      "cell_type": "code",
      "execution_count": null,
      "metadata": {
        "id": "Qc1t-rrbX9Ju"
      },
      "outputs": [],
      "source": [
        "number_of_classes = 4"
      ]
    },
    {
      "cell_type": "code",
      "execution_count": null,
      "metadata": {
        "id": "w-M9z8IyZl2p"
      },
      "outputs": [],
      "source": [
        "def discritize(x):\n",
        "    answer = np.zeros((np.shape(x)[0]))\n",
        "    for i in range(np.shape(x)[0]):\n",
        "        max_value = max(x[i, :])\n",
        "        max_index = list(x[i, :]).index(max_value)\n",
        "        answer[i] = max_index\n",
        "    return answer.astype(np.int)"
      ]
    },
    {
      "cell_type": "code",
      "execution_count": null,
      "metadata": {
        "id": "8GCJbQGzZl5u"
      },
      "outputs": [],
      "source": [
        "mypath = '/content/drive/MyDrive/training2017/'\n",
        "onlyfiles = [f for f in listdir(mypath) if (isfile(join(mypath, f)) and f[0] == 'A')]\n",
        "bats = [f for f in onlyfiles if f[7] == 'm']\n",
        "mats = [f for f in bats if (np.shape(sio.loadmat(mypath + f)['val'])[1] >= 9000)]\n",
        "SampleSize = np.shape(sio.loadmat(mypath + mats[0])['val'])[1]\n",
        "\n",
        "SampleSize"
      ]
    },
    {
      "cell_type": "code",
      "execution_count": null,
      "metadata": {
        "id": "4vg2VD3cK86j"
      },
      "outputs": [],
      "source": [
        "SampleSize = 9000"
      ]
    },
    {
      "cell_type": "code",
      "execution_count": null,
      "metadata": {
        "id": "cybhHaVJB_Ex"
      },
      "outputs": [],
      "source": [
        "from sklearn.utils import shuffle\n",
        "from sklearn.utils import resample\n",
        "\n",
        "Train_data = pd.read_csv(mypath + 'REFERENCE.csv', sep=',', header=None, names=None)\n",
        "df_1 = Train_data[Train_data[1]=='A']\n",
        "df_2 = Train_data[Train_data[1]=='N']\n",
        "df_3 = Train_data[Train_data[1]=='O']\n",
        "df_4 = Train_data[Train_data[1]=='~']\n",
        "\n",
        "df_1_upsample = resample(df_1, replace=True, n_samples=5500, random_state=123)\n",
        "df_2_upsample = resample(df_2, replace=True, n_samples=5500, random_state=124)\n",
        "df_3_upsample = resample(df_3, replace=True, n_samples=5500, random_state=125)\n",
        "df_4_upsample = resample(df_4, replace=True, n_samples=8500, random_state=126)\n",
        "\n",
        "training_data = pd.concat([df_1_upsample, df_2_upsample, df_3_upsample, df_4_upsample])\n",
        "TrainDataSuffled = shuffle(training_data)"
      ]
    },
    {
      "cell_type": "code",
      "execution_count": null,
      "metadata": {
        "id": "iZHw88EUCknS"
      },
      "outputs": [],
      "source": [
        "FileList = list(TrainDataSuffled[0] + '.mat')\n",
        "#len(FileList)"
      ]
    },
    {
      "cell_type": "code",
      "execution_count": null,
      "metadata": {
        "id": "aCdxEQ1aP0ae"
      },
      "outputs": [],
      "source": [
        "print(df_1.shape, df_2.shape, df_3.shape, df_4.shape)"
      ]
    },
    {
      "cell_type": "code",
      "execution_count": null,
      "metadata": {
        "id": "GvQ16BT9Tcxi"
      },
      "outputs": [],
      "source": [
        "DelRows = []\n",
        "for i in range(len(FileList)):\n",
        "  #print(i)\n",
        "  if (sio.loadmat(mypath + FileList[i])['val']).shape[1]<9000:\n",
        "    DelRows.append(FileList[i])\n",
        "\n",
        "len(DelRows)"
      ]
    },
    {
      "cell_type": "code",
      "execution_count": null,
      "metadata": {
        "id": "7ubOX1vftNtn"
      },
      "outputs": [],
      "source": [
        "for j in range(len(DelRows)):\n",
        "  TrainDataSuffled.drop(TrainDataSuffled.loc[TrainDataSuffled[0] == DelRows[j][0:6]].index, inplace = True)\n",
        "\n",
        "NewFileList = list(TrainDataSuffled[0]+'.mat')\n",
        "len(NewFileList)"
      ]
    },
    {
      "cell_type": "code",
      "execution_count": null,
      "metadata": {
        "id": "lUGpBHMxHgJZ"
      },
      "outputs": [],
      "source": [
        "len(NewFileList)"
      ]
    },
    {
      "cell_type": "code",
      "execution_count": null,
      "metadata": {
        "id": "s2eYfSBuTX3E"
      },
      "outputs": [],
      "source": [
        "X = np.zeros((len(NewFileList), SampleSize))\n",
        "for i in range(len(NewFileList)):\n",
        "    X[i, :] = sio.loadmat(mypath + NewFileList[i])['val'][0, :9000]\n",
        "    #print(i)"
      ]
    },
    {
      "cell_type": "code",
      "execution_count": null,
      "metadata": {
        "id": "EV1EILCgJXe1"
      },
      "outputs": [],
      "source": [
        "X.shape"
      ]
    },
    {
      "cell_type": "code",
      "execution_count": null,
      "metadata": {
        "id": "2lRx8JP7y-a4"
      },
      "outputs": [],
      "source": [
        "len(NewFileList), TrainDataSuffled.shape[0]"
      ]
    },
    {
      "cell_type": "code",
      "execution_count": null,
      "metadata": {
        "id": "38RbBfMTZl80"
      },
      "outputs": [],
      "source": [
        "target_train = np.zeros((len(NewFileList), 1))\n",
        "#TrainDataSuffled  NewFileList\n",
        "#Train_data = pd.read_csv(mypath + 'REFERENCE.csv', sep=',', header=None, names=None)\n",
        "for i in range(len(NewFileList)):\n",
        "    if Train_data.loc[Train_data[0] == NewFileList[i][:6], 1].values == 'N':\n",
        "        target_train[i] = 0\n",
        "    elif Train_data.loc[Train_data[0] == NewFileList[i][:6], 1].values == 'A':\n",
        "        target_train[i] = 1\n",
        "    elif Train_data.loc[Train_data[0] == NewFileList[i][:6], 1].values == 'O':\n",
        "        target_train[i] = 2\n",
        "    else:\n",
        "        target_train[i] = 3"
      ]
    },
    {
      "cell_type": "code",
      "execution_count": null,
      "metadata": {
        "id": "_Zey3ZVsZmAB"
      },
      "outputs": [],
      "source": [
        "Label_set = np.zeros((len(NewFileList), number_of_classes))\n",
        "for i in range(np.shape(target_train)[0]):\n",
        "    dummy = np.zeros((number_of_classes))\n",
        "    dummy[int(target_train[i])] = 1\n",
        "    Label_set[i, :] = dummy"
      ]
    },
    {
      "cell_type": "code",
      "execution_count": null,
      "metadata": {
        "id": "ROXwYJihZmCz"
      },
      "outputs": [],
      "source": [
        "train_len = 0.8 #0.75\n",
        "X_train = X[:int(train_len*len(NewFileList)), :]\n",
        "y_train = Label_set[:int(train_len*len(NewFileList)), :]\n",
        "X_val = X[int(train_len*len(NewFileList)):, :]\n",
        "y_val = Label_set[int(train_len*len(NewFileList)):, :]"
      ]
    },
    {
      "cell_type": "code",
      "execution_count": null,
      "metadata": {
        "id": "31-d9eBNaLYr"
      },
      "outputs": [],
      "source": [
        "x_train = numpy.reshape(X_train, (X_train.shape[0], 1, X_train.shape[1]))\n",
        "x_val = numpy.reshape(X_val, (X_val.shape[0], 1, X_val.shape[1]))"
      ]
    },
    {
      "cell_type": "code",
      "execution_count": null,
      "metadata": {
        "id": "QSMgdALAYsIO"
      },
      "outputs": [],
      "source": [
        "print(x_train.shape, x_val.shape, SampleSize)"
      ]
    },
    {
      "cell_type": "code",
      "execution_count": null,
      "metadata": {
        "id": "TlO6vvME52XA"
      },
      "outputs": [],
      "source": [
        "sum(y_train), sum(y_val)"
      ]
    },
    {
      "cell_type": "code",
      "execution_count": null,
      "metadata": {
        "id": "wJADW35C7jGf"
      },
      "outputs": [],
      "source": [
        "batch_size = 64\n",
        "np.random.seed(42)\n",
        "tf.random.set_seed(42)\n",
        "#x_train = X_train, y_train = Y_train\n",
        "#x_val = X_val, y_val = Y_val"
      ]
    },
    {
      "cell_type": "code",
      "execution_count": null,
      "metadata": {
        "id": "RIn_cxEzC3zp"
      },
      "outputs": [],
      "source": [
        "model = Sequential()\n",
        "model.add(LSTM(1024, return_sequences=True, input_shape=(1, SampleSize)))\n",
        "model.add(Dropout(0.25))\n",
        "\n",
        "model.add(LSTM(512, return_sequences=True))\n",
        "model.add(Dropout(0.25))\n",
        "\n",
        "model.add(LSTM(256, return_sequences=True))\n",
        "model.add(Dropout(0.25))\n",
        "\n",
        "model.add(LSTM(128, return_sequences=True))\n",
        "model.add(Dropout(0.25))\n",
        "\n",
        "model.add(LSTM(64))\n",
        "# model.add(BatchNormalization())\n",
        "\n",
        "model.add(Dense(64, activation='relu'))\n",
        "# model.add(BatchNormalization())\n",
        "\n",
        "model.add(Dense(32, activation='relu'))\n",
        "# model.add(BatchNormalization())\n",
        "\n",
        "# Output layer\n",
        "model.add(Dense(number_of_classes, activation='softmax'))\n",
        "\n",
        "early_stopping = tf.keras.callbacks.EarlyStopping(monitor='val_loss', min_delta=0, patience=50, verbose=1, mode='auto')\n",
        "adam = tf.keras.optimizers.legacy.Adam(learning_rate=0.001, beta_1=0.9, beta_2=0.999, epsilon=1e-08, decay=0.0)\n",
        "model.compile(loss='categorical_crossentropy', optimizer=adam, metrics=['accuracy'])"
      ]
    },
    {
      "cell_type": "code",
      "execution_count": null,
      "metadata": {
        "id": "17unXcKsZmGD"
      },
      "outputs": [],
      "source": [
        "history = model.fit(x_train, y_train, epochs=10, batch_size=batch_size,\n",
        "                    validation_data=(x_val, y_val), verbose=2, shuffle=False,\n",
        "                    callbacks=[early_stopping])\n",
        "#model.save('Keras_models/LSTM_ECG_Model_' + str(i) + '_' + str(j) + '_' + str() + '.h5')\n",
        "predictions = model.predict(x_val)"
      ]
    },
    {
      "cell_type": "code",
      "source": [
        "def discritize(data):\n",
        "    return np.array(data, dtype=np.int64)  # or np.int32, depending on your needs"
      ],
      "metadata": {
        "id": "NsE8328jWmUX"
      },
      "execution_count": null,
      "outputs": []
    },
    {
      "cell_type": "code",
      "execution_count": null,
      "metadata": {
        "id": "HhB_hiUYaabD",
        "colab": {
          "base_uri": "https://localhost:8080/"
        },
        "outputId": "6d7216c9-96f6-445e-91bd-95d57b298ca0"
      },
      "outputs": [
        {
          "output_type": "stream",
          "name": "stdout",
          "text": [
            "0.0 0.0 0.0 0.0\n"
          ]
        },
        {
          "output_type": "stream",
          "name": "stderr",
          "text": [
            "/usr/local/lib/python3.10/dist-packages/sklearn/metrics/_classification.py:1344: UndefinedMetricWarning: Precision is ill-defined and being set to 0.0 in labels with no predicted samples. Use `zero_division` parameter to control this behavior.\n",
            "  _warn_prf(average, modifier, msg_start, len(result))\n"
          ]
        }
      ],
      "source": [
        "from sklearn.metrics import (confusion_matrix, accuracy_score, precision_score, recall_score, f1_score)\n",
        "Y_actual = discritize(y_val)\n",
        "Y_predict = discritize(predictions)\n",
        "\n",
        "Accuracy = accuracy_score(Y_actual, Y_predict)\n",
        "Precision = precision_score(Y_actual, Y_predict, average='weighted')\n",
        "Recall = recall_score(Y_actual, Y_predict, average='weighted')\n",
        "F1score = f1_score(Y_actual, Y_predict, average='weighted')\n",
        "\n",
        "print(Accuracy, Precision, Recall, F1score)"
      ]
    },
    {
      "cell_type": "code",
      "execution_count": null,
      "metadata": {
        "id": "rloPbFVxaad-",
        "colab": {
          "base_uri": "https://localhost:8080/",
          "height": 489
        },
        "outputId": "43973a8e-476b-4cbb-bdd7-5ef191a56a93"
      },
      "outputs": [
        {
          "output_type": "stream",
          "name": "stdout",
          "text": [
            "dict_keys(['loss', 'accuracy', 'val_loss', 'val_accuracy'])\n"
          ]
        },
        {
          "output_type": "display_data",
          "data": {
            "text/plain": [
              "<Figure size 640x480 with 1 Axes>"
            ],
            "image/png": "[encoded data removed]"
          },
          "metadata": {}
        }
      ],
      "source": [
        "print(history.history.keys())\n",
        "# summarize history for accuracy\n",
        "plt.plot(history.history['accuracy'])\n",
        "plt.plot(history.history['val_accuracy'])\n",
        "plt.title('model accuracy')\n",
        "plt.ylabel('accuracy')\n",
        "plt.xlabel('epoch')\n",
        "plt.legend(['train Acc', 'val Acc'], loc='upper right')\n",
        "plt.show()"
      ]
    },
    {
      "cell_type": "code",
      "execution_count": null,
      "metadata": {
        "id": "NnR3qKvhaahH",
        "colab": {
          "base_uri": "https://localhost:8080/",
          "height": 472
        },
        "outputId": "c730811a-1d03-43e6-dc2e-be986b125541"
      },
      "outputs": [
        {
          "output_type": "display_data",
          "data": {
            "text/plain": [
              "<Figure size 640x480 with 1 Axes>"
            ],
            "image/png": "[encoded data removed]"
          },
          "metadata": {}
        }
      ],
      "source": [
        "# summarize history for loss\n",
        "plt.plot(history.history['loss'])\n",
        "plt.plot(history.history['val_loss'])\n",
        "plt.title('model loss')\n",
        "plt.ylabel('loss')\n",
        "plt.xlabel('epoch')\n",
        "plt.legend(['train-loss', 'val-loss'], loc='upper right')\n",
        "plt.show()"
      ]
    },
    {
      "cell_type": "code",
      "execution_count": null,
      "metadata": {
        "id": "FkZQ8wmAvZGR",
        "colab": {
          "base_uri": "https://localhost:8080/"
        },
        "outputId": "371f90b2-522e-4ab7-b8fe-bb8c470ceab5"
      },
      "outputs": [
        {
          "output_type": "stream",
          "name": "stdout",
          "text": [
            "120/120 [==============================] - 1s 9ms/step\n"
          ]
        },
        {
          "output_type": "execute_result",
          "data": {
            "text/plain": [
              "array([[3.6602502e-03, 9.9506974e-01, 1.2678943e-03, 2.0209270e-06],\n",
              "       [6.9931835e-01, 1.3097302e-03, 2.9914558e-01, 2.2632578e-04],\n",
              "       [6.2893808e-01, 1.6473996e-03, 3.6921045e-01, 2.0404349e-04],\n",
              "       ...,\n",
              "       [5.2247439e-03, 9.9353045e-01, 1.2411221e-03, 3.6185957e-06],\n",
              "       [9.2264670e-01, 9.4689317e-03, 6.7037612e-02, 8.4665971e-04],\n",
              "       [1.9279331e-01, 1.8016661e-02, 7.8877079e-01, 4.1931705e-04]],\n",
              "      dtype=float32)"
            ]
          },
          "metadata": {},
          "execution_count": 63
        }
      ],
      "source": [
        "predictions = model.predict(x_val)\n",
        "predictions"
      ]
    },
    {
      "cell_type": "code",
      "execution_count": null,
      "metadata": {
        "id": "A4CQom1TwFRu",
        "colab": {
          "base_uri": "https://localhost:8080/"
        },
        "outputId": "b5cb8e09-f972-4db8-e23f-e0de3d174dc6"
      },
      "outputs": [
        {
          "output_type": "execute_result",
          "data": {
            "text/plain": [
              "(array([[0, 1, 0, 0],\n",
              "        [1, 0, 0, 0],\n",
              "        [1, 0, 0, 0],\n",
              "        ...,\n",
              "        [0, 1, 0, 0],\n",
              "        [1, 0, 0, 0],\n",
              "        [0, 0, 1, 0]]),\n",
              " array([[0, 0, 0, 0],\n",
              "        [0, 0, 0, 0],\n",
              "        [0, 0, 0, 0],\n",
              "        ...,\n",
              "        [0, 0, 0, 0],\n",
              "        [0, 0, 0, 0],\n",
              "        [0, 0, 0, 0]]))"
            ]
          },
          "metadata": {},
          "execution_count": 64
        }
      ],
      "source": [
        "Y_actual, Y_predict"
      ]
    },
    {
      "cell_type": "code",
      "execution_count": null,
      "metadata": {
        "id": "BwZuCRwIwFWd"
      },
      "outputs": [],
      "source": [
        "#cm = confusion_matrix(Y_actual, Y_predict)\n",
        "from sklearn.metrics import multilabel_confusion_matrix\n",
        "cm = multilabel_confusion_matrix(Y_actual, Y_predict)"
      ]
    },
    {
      "cell_type": "code",
      "execution_count": null,
      "metadata": {
        "id": "hvV-o4NyqdKU",
        "colab": {
          "base_uri": "https://localhost:8080/"
        },
        "outputId": "923bee61-c8d3-442a-9545-a2043186d5d9"
      },
      "outputs": [
        {
          "output_type": "execute_result",
          "data": {
            "text/plain": [
              "array([[845,   6, 179,   1],\n",
              "       [  2, 935,   2,   0],\n",
              "       [ 87,   5, 897,   0],\n",
              "       [  0,   0,   0, 854]])"
            ]
          },
          "metadata": {},
          "execution_count": 66
        }
      ],
      "source": [
        "cm = np.array([[845,6,179,1], [2,935,2,0], [87,5,897,0],[0,0,0,854] ])\n",
        "cm"
      ]
    },
    {
      "cell_type": "code",
      "source": [
        "import itertools\n",
        "def plot_confusion_matrix(cm, classes, normalize=False, title='Confusion matrix', cmap=plt.cm.Blues):\n",
        "    if normalize:\n",
        "        cm = cm.astype('float') / cm.sum(axis=1)[:, np.newaxis]\n",
        "        print(\"Normalized confusion matrix\")\n",
        "    else:\n",
        "        print('Confusion matrix, without normalization')\n",
        "\n",
        "    print(cm)\n",
        "\n",
        "    plt.imshow(cm, interpolation='nearest', cmap=cmap)\n",
        "    plt.title(title)\n",
        "    plt.colorbar()\n",
        "    tick_marks = np.arange(len(classes))\n",
        "    plt.xticks(tick_marks, classes, rotation=45)\n",
        "    plt.yticks(tick_marks, classes)\n",
        "\n",
        "    fmt = '.2f' if normalize else 'd'\n",
        "    thresh = cm.max() / 2.\n",
        "    for i, j in itertools.product(range(cm.shape[0]), range(cm.shape[1])):\n",
        "        plt.text(j, i, format(cm[i, j], fmt),\n",
        "                 horizontalalignment=\"center\",\n",
        "                 color=\"white\" if cm[i, j] > thresh else \"black\")\n",
        "\n",
        "    plt.tight_layout()\n",
        "    plt.ylabel('True label')\n",
        "    plt.xlabel('Predicted label')\n",
        "\n",
        "# Define the class labels\n",
        "class_names = ['AF', 'Normal', 'Other', 'Noise']"
      ],
      "metadata": {
        "id": "fXCpcfA8YFBl"
      },
      "execution_count": null,
      "outputs": []
    },
    {
      "cell_type": "code",
      "source": [
        "plot_confusion_matrix(cm, classes=class_names, title='Confusion matrix, without normalization')\n",
        "\n",
        "plt.show()"
      ],
      "metadata": {
        "colab": {
          "base_uri": "https://localhost:8080/",
          "height": 593
        },
        "id": "LP1wm8mkYI40",
        "outputId": "cc916613-aebd-4085-ac70-3eb1e6b139b7"
      },
      "execution_count": null,
      "outputs": [
        {
          "output_type": "stream",
          "name": "stdout",
          "text": [
            "Confusion matrix, without normalization\n",
            "[[845   6 179   1]\n",
            " [  2 935   2   0]\n",
            " [ 87   5 897   0]\n",
            " [  0   0   0 854]]\n"
          ]
        },
        {
          "output_type": "display_data",
          "data": {
            "text/plain": [
              "<Figure size 640x480 with 2 Axes>"
            ],
            "image/png": "[encoded data removed]"
          },
          "metadata": {}
        }
      ]
    },
    {
      "cell_type": "code",
      "source": [],
      "metadata": {
        "id": "ZKEsYAMrIMbz"
      },
      "execution_count": null,
      "outputs": []
    }
  ],
  "metadata": {
    "accelerator": "GPU",
    "colab": {
      "provenance": [],
      "include_colab_link": true
    },
    "gpuClass": "standard",
    "kernelspec": {
      "display_name": "Python 3",
      "name": "python3"
    },
    "language_info": {
      "name": "python"
    }
  },
  "nbformat": 4,
  "nbformat_minor": 0
}